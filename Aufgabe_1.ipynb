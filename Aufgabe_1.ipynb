{
 "cells": [
  {
   "cell_type": "markdown",
   "metadata": {},
   "source": [
    "## **Aufgabe 1 - Energieabsorption bei Deformation**\n",
    "\n",
    "Als Knautschzone bezeichnet man Bereiche eines PKWs, Flugzeugs oder Schienenfahrzeugs, die sich im Falle einer Kollision verformen und so die kinetische Energie des Fahrzeugs durch Umwandlung in Verformungsarbeit absorbieren. Teilweise kommen dabei Crashabsorber zum Einsatz, die nur dem Ziel der Verformung und Energieabsorption dienen.\n",
    "\n",
    "Die dabei umgewandelte Energie pro Volumen $E_V$ in $\\text{J/m}^3$ kann mit Hilfe folgender Gleichung berechnet werden:\n",
    "\n",
    "$$ E_V = \\int_{\\varepsilon 0}^{\\varepsilon 1} \\sigma(\\varepsilon) \\text{d}\\varepsilon $$\n",
    "\n",
    "mit der Spannung $\\sigma$ in Pascal und der dimensionslosen Deformation $\\varepsilon = \\Delta L / L_0$, häufig auch in Prozent angegeben. Die Spannung $\\sigma$ entspricht dabei der auf das Material wirkenden Kraft $F$ geteilt durch die senkrechte Querschnittsfläche des Crashabsorbers $A_0$. Dieser Verformungsvorgang kann in einem Spannungs-Deformations-Diagramm dargestellt werden, wobei die Fläche unter dem Graphen der umgewandelten Energie pro Volumen $E_V$ entspricht:\n",
    "\n",
    "![alt text](Abbildungen/crashabsorber.png)\n",
    "\n",
    "Im Rahmen dieser Belegaufgabe soll die umgewandelte Energie von drei Crashabsorbern untersucht werden, welche aus unterschiedlichen Materialen (bzw. Metallschäumen) bestehen und daher entsprechend unterschiedliche Spannungs-Deformations-Diagramme aufweisen. Die Rohdaten (Spannung als Funktion der Deformation) sind in den Dateien `material_A.csv`, `material_B.csv` und `material_C.csv` im Ordner `Daten` gegeben.\n",
    "\n",
    "\n",
    "### **Teilaufgaben**\n",
    "\n",
    "1. Implementieren Sie jeweils eine *Funktion* zur numerischen Integration mit Hilfe der Box- und der Trapezregel. **Hinweis:** Nutzen Sie dazu ***keine*** fertigen Integrationsfunktionen von Numpy oder Scipy!\n",
    "2. Berechnen Sie numerisch mit Hilfe der Boxregel, wie viel Energie pro Volumen $E_V$ in $\\text{MJ/m}^3$ von Schaummaterial A bei einer Deformation von $\\varepsilon_0 = 0\\,\\%$ bis $\\varepsilon_1 = 38\\,\\%$ absorbiert.\n",
    "3. Wie groß ist die prozentuale Änderung von $E_V$, wenn statt der Boxregel die Trapezregel zur numerischen Integration verwendet wird?\n",
    "4. Wie stark muss sich Schaummaterial B und C deformieren, um eine ebenso große umgewandelte Energie pro Volumen aufzunehmen? Nutzen Sie dazu ebenfalls die Trapezregel."
   ]
  },
  {
   "cell_type": "markdown",
   "metadata": {},
   "source": [
    "============================================================================================================================\n",
    "### **Implementierung**\n",
    "\n",
    "Zunächst wird Bibliothek `numpy` verwendet, um mathematische Operationen und numerische Integration effizient auszuführen. Berechnung der numerischen Integration mit der Box- und Trapezregel. Konvertierung von Listen in Arrays. Suche nach Indizes in sortierten Arrays.\n"
   ]
  },
  {
   "cell_type": "code",
   "execution_count": 1,
   "metadata": {},
   "outputs": [],
   "source": [
    "import numpy as np"
   ]
  },
  {
   "cell_type": "markdown",
   "metadata": {},
   "source": [
    "#### Teilaufgabe 1: Daten laden für Material A, B und C\n",
    "\n",
    "Mit `np.genfromtxt` werden die Deformations-(𝜖) und Spannungswerte (σ) aus CSV-Dateien geladen. Die Werte jeder Spalte werden getrennt in Arrays gespeichert, z. B. `deformation_A` und `spannung_A` für Material A. Das Gleiche gilt für Materialien B und C."
   ]
  },
  {
   "cell_type": "code",
   "execution_count": 2,
   "metadata": {},
   "outputs": [],
   "source": [
    "deformation_A, spannung_A = np.genfromtxt(\"Daten/material_A.csv\", delimiter=\",\", unpack=True)\n",
    "deformation_B, spannung_B = np.genfromtxt(\"Daten/material_B.csv\", delimiter=\",\", unpack=True)\n",
    "deformation_C, spannung_C = np.genfromtxt(\"Daten/material_C.csv\", delimiter=\",\", unpack=True)"
   ]
  },
  {
   "cell_type": "markdown",
   "metadata": {},
   "source": [
    "#### Teilaufgabe 2: Integration mit der Boxregel\n",
    "\n",
    "Die Funktion summiert die Energie, indem sie Rechteckflächen (Boxes) berechnet. Pro Intervall wird die Anfangsspannung (`y`) mit der Deformationsdifferenz (`dx`) multipliziert. Das Ergebnis ist die Gesamtenergie im Bereich, zurückgegeben in J/m³."
   ]
  },
  {
   "cell_type": "code",
   "execution_count": 3,
   "metadata": {},
   "outputs": [],
   "source": [
    "def boxregel(deformation, spannung, untere_grenze=0, obere_grenze=38):\n",
    "    \n",
    "    integral = 0\n",
    "    for index in range(1, len(deformation)):\n",
    "        deformation_vorhanden = deformation[index]\n",
    "        if untere_grenze <= deformation_vorhanden <= obere_grenze:\n",
    "            dx = deformation[index] - deformation[index - 1]\n",
    "            y = spannung[index - 1]  # Spannung in MPa\n",
    "            integral += y * dx\n",
    "    return integral"
   ]
  },
  {
   "cell_type": "markdown",
   "metadata": {},
   "source": [
    "#### Teilaufgabe 2: Integration mit der Trapezregel\n",
    "\n",
    "Hier wird die durchschnittliche Spannung (`y_avg`) eines Intervalls mit der Deformationsdifferenz (`dx`) multipliziert. \n",
    "\n",
    "Diese Trapezflächen werden summiert, um die Gesamtenergie im Bereich [`untere_grenze, obere_grenze`] zu erhalten. Das Ergebnis wird in J/m³ zurückgegeben."
   ]
  },
  {
   "cell_type": "code",
   "execution_count": 4,
   "metadata": {},
   "outputs": [],
   "source": [
    "def trapezregel(deformation, spannung, untere_grenze=0, obere_grenze=38):\n",
    "\n",
    "    integral = 0\n",
    "    for index in range(1, len(deformation)):\n",
    "        deformation_vorhanden = deformation[index]\n",
    "        if untere_grenze <= deformation_vorhanden <= obere_grenze:\n",
    "            dx = deformation[index] - deformation[index - 1]\n",
    "            y_avg = 0.5 * (spannung[index - 1] + spannung[index])  # Durchschnitt der Spannungen in MPa\n",
    "            integral += y_avg * dx\n",
    "    return integral"
   ]
  },
  {
   "cell_type": "markdown",
   "metadata": {},
   "source": [
    "#### Teilaufgabe 2: Energie für Material A berechnen\n",
    "\n",
    "Hier wird die absorbierte Energie für Material A berechnet, einmal mit der Boxregel und einmal mit der Trapezregel. Beide Energiewerte werden anschließend von J/m³ in MJ/m³ umgerechnet."
   ]
  },
  {
   "cell_type": "code",
   "execution_count": 5,
   "metadata": {},
   "outputs": [
    {
     "name": "stdout",
     "output_type": "stream",
     "text": [
      "Die von Schaummaterial A absorbierte Energie pro Volumen bei einer Deformation von 0 % bis 38 % beträgt: 0.490 MJ/m³\n"
     ]
    }
   ],
   "source": [
    "Energie_A_box = boxregel(deformation_A, spannung_A)\n",
    "Energie_A_box_MJm3 = Energie_A_box / 1e3  # Konvertierung von J/m³ in MJ/m³\n",
    "\n",
    "print(f\"Die von Schaummaterial A absorbierte Energie pro Volumen bei einer Deformation von 0 % bis 38 % beträgt: {Energie_A_box_MJm3:.3f} MJ/m³\")\n",
    "\n",
    "Energie_A_trapez = trapezregel(deformation_A, spannung_A)\n",
    "Energie_A_trapez_MJm3 = Energie_A_trapez / 1e3  # Konvertierung von J/m³ in MJ/m³"
   ]
  },
  {
   "cell_type": "markdown",
   "metadata": {},
   "source": [
    "#### Teilaufgabe 3: Prozentuale Änderung zwischen Boxregel und Trapezregel berechnen"
   ]
  },
  {
   "cell_type": "code",
   "execution_count": 6,
   "metadata": {},
   "outputs": [
    {
     "name": "stdout",
     "output_type": "stream",
     "text": [
      "Die prozentuale Änderung beträgt: 2.016 %\n"
     ]
    }
   ],
   "source": [
    "aenderung_prozent = abs(Energie_A_box - Energie_A_trapez) / Energie_A_box * 100\n",
    "print(f\"Die prozentuale Änderung beträgt: {aenderung_prozent:.3f} %\")"
   ]
  },
  {
   "cell_type": "markdown",
   "metadata": {},
   "source": [
    "#### Teilaufgabe 4: Deformation für gleiche Energie mit der Trapezregel suchen\n",
    "\n",
    "Diese Funktion sucht die Deformation, bei der die mit der Trapezregel berechnete Energie eine vorgegebene Zielenergie erreicht oder überschreitet. Dazu summiert sie die Trapezflächen schrittweise auf, bis der kumulierte Wert größer oder gleich der Zielenergie ist. Sobald dies der Fall ist, wird die entsprechende Deformation zurückgegeben. Liegt die Zielenergie außerhalb des definierten Bereichs, gibt die Funktion `None` zurück."
   ]
  },
  {
   "cell_type": "code",
   "execution_count": 7,
   "metadata": {},
   "outputs": [],
   "source": [
    "def deformation_trapezregel_material(deformation, spannung, energie_ziel, untere_grenze=0, obere_grenze=38):\n",
    "\n",
    "    integral = 0\n",
    "    for index in range(1, len(deformation)):\n",
    "        deformation_vorhanden = deformation[index]\n",
    "        if untere_grenze <= deformation_vorhanden <= obere_grenze:\n",
    "            dx = deformation[index] - deformation[index - 1]\n",
    "            y_avg = 0.5 * (spannung[index - 1] + spannung[index])  # Durchschnitt der Spannungen\n",
    "            integral += y_avg * dx\n",
    "            if integral >= energie_ziel:\n",
    "                return deformation_vorhanden\n",
    "    return None"
   ]
  },
  {
   "cell_type": "markdown",
   "metadata": {},
   "source": [
    "#### Teilaufgabe 4: Deformation für Material B berechnen\n",
    "\n",
    "Hier wird berechnet, wie stark Material B deformiert werden muss, um die gleiche Energie zu absorbieren, die Material A mit der Trapezregel erreicht hat.\n",
    "\n",
    "Die Funktion `deformation_trapezregel_material` wird dafür mit den Daten von Material B und dem Zielwert `Energie_A_trapez` aufgerufen.\n",
    "\n",
    "Wenn eine passende Deformation innerhalb des Bereichs von 0% bis 77% gefunden wird, wird sie ausgegeben. Andernfalls wird eine Nachricht angezeigt, dass die Zielenergie mit Material B nicht erreicht wurde."
   ]
  },
  {
   "cell_type": "code",
   "execution_count": 8,
   "metadata": {},
   "outputs": [
    {
     "name": "stdout",
     "output_type": "stream",
     "text": [
      "Material B muss sich um 55.00% deformieren, um die Zielenergie von Material A zu erreichen.\n"
     ]
    }
   ],
   "source": [
    "deformation_benoetigt_B = deformation_trapezregel_material(deformation_B, spannung_B, Energie_A_trapez, 0, 77)\n",
    "\n",
    "if deformation_benoetigt_B:\n",
    "    print(f\"Material B muss sich um {deformation_benoetigt_B:.2f}% deformieren, um die Zielenergie von Material A zu erreichen.\")\n",
    "else:\n",
    "    print(\"Die Zielenergie wurde mit Material B nicht erreicht.\")"
   ]
  },
  {
   "cell_type": "markdown",
   "metadata": {},
   "source": [
    "#### Teilaufgabe 4: Deformation für Material C berechnen\n",
    "\n",
    "Ähnlich wie oben. \n",
    "\n",
    "Die Funktion `deformation_trapezregel_material` wird mit den Daten von Material C und dem Zielwert `Energie_A_trapez` aufgerufen. Der Deformationsbereich ist auf 0% bis 80 begrenzt.\n",
    "\n",
    "Falls die Zielenergie erreicht wird, wird die benötigte Deformation ausgegeben. Falls nicht, erscheint eine Nachricht, dass Material C die Zielenergie nicht erreicht."
   ]
  },
  {
   "cell_type": "code",
   "execution_count": 9,
   "metadata": {},
   "outputs": [
    {
     "name": "stdout",
     "output_type": "stream",
     "text": [
      "Material C muss sich um 75.00% deformieren, um die Zielenergie von Material A zu erreichen.\n"
     ]
    }
   ],
   "source": [
    "deformation_benoetigt_C = deformation_trapezregel_material(deformation_C, spannung_C, Energie_A_trapez, 0, 80)\n",
    "\n",
    "if deformation_benoetigt_C:\n",
    "    print(f\"Material C muss sich um {deformation_benoetigt_C:.2f}% deformieren, um die Zielenergie von Material A zu erreichen.\")\n",
    "else:\n",
    "    print(\"Die Zielenergie wurde mit Material C nicht erreicht.\")"
   ]
  }
 ],
 "metadata": {
  "kernelspec": {
   "display_name": "base",
   "language": "python",
   "name": "python3"
  },
  "language_info": {
   "codemirror_mode": {
    "name": "ipython",
    "version": 3
   },
   "file_extension": ".py",
   "mimetype": "text/x-python",
   "name": "python",
   "nbconvert_exporter": "python",
   "pygments_lexer": "ipython3",
   "version": "3.11.5"
  }
 },
 "nbformat": 4,
 "nbformat_minor": 2
}
